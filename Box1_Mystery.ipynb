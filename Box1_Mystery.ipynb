{
  "nbformat": 4,
  "nbformat_minor": 0,
  "metadata": {
    "colab": {
      "name": "Box1_Mystery.ipynb",
      "provenance": [],
      "authorship_tag": "ABX9TyNUAhszvlU0XQZ0mxgDRFSc",
      "include_colab_link": true
    },
    "kernelspec": {
      "name": "python3",
      "display_name": "Python 3"
    },
    "accelerator": "GPU"
  },
  "cells": [
    {
      "cell_type": "markdown",
      "metadata": {
        "id": "view-in-github",
        "colab_type": "text"
      },
      "source": [
        "<a href=\"https://colab.research.google.com/github/sriaryan18/Aryan/blob/master/Box1_Mystery.ipynb\" target=\"_parent\"><img src=\"https://colab.research.google.com/assets/colab-badge.svg\" alt=\"Open In Colab\"/></a>"
      ]
    },
    {
      "cell_type": "code",
      "metadata": {
        "id": "eb8bCfd3-5HL",
        "colab_type": "code",
        "colab": {}
      },
      "source": [
        "import numpy as np"
      ],
      "execution_count": 2,
      "outputs": []
    },
    {
      "cell_type": "markdown",
      "metadata": {
        "id": "pIhq_xt4csEd",
        "colab_type": "text"
      },
      "source": [
        "###defining Mystery box 1\n",
        "Note:- You need not to bother about what is being written in the celll just try to see what is happening\n",
        "\n"
      ]
    },
    {
      "cell_type": "code",
      "metadata": {
        "id": "5jFM0WS7b3sI",
        "colab_type": "code",
        "colab": {}
      },
      "source": [
        "def mystery_box1(x):\n",
        "  return 9*x+2\n",
        "x=np.arange(1,500)\n",
        "y=mystery_box1(x)\n",
        "x=x.reshape(-1,1)\n",
        "y=y.reshape(-1,1)"
      ],
      "execution_count": 75,
      "outputs": []
    },
    {
      "cell_type": "code",
      "metadata": {
        "id": "QlK2dpcV-5Bn",
        "colab_type": "code",
        "colab": {
          "base_uri": "https://localhost:8080/",
          "height": 34
        },
        "outputId": "ebec558b-715b-4d5b-ef54-230598d47264"
      },
      "source": [
        "from sklearn.linear_model import LinearRegression\n",
        "lr=LinearRegression(normalize=True)\n",
        "lr.fit(x,y)"
      ],
      "execution_count": 76,
      "outputs": [
        {
          "output_type": "execute_result",
          "data": {
            "text/plain": [
              "LinearRegression(copy_X=True, fit_intercept=True, n_jobs=None, normalize=True)"
            ]
          },
          "metadata": {
            "tags": []
          },
          "execution_count": 76
        }
      ]
    },
    {
      "cell_type": "code",
      "metadata": {
        "id": "PiSlBnCcZ4x-",
        "colab_type": "code",
        "colab": {}
      },
      "source": [
        "def output(a):\n",
        "  return lr.predict(np.array(a).reshape(-1,1))"
      ],
      "execution_count": 77,
      "outputs": []
    },
    {
      "cell_type": "markdown",
      "metadata": {
        "id": "GsjOuFHMdDRC",
        "colab_type": "text"
      },
      "source": [
        "### Enter any input to check\n"
      ]
    },
    {
      "cell_type": "code",
      "metadata": {
        "id": "g2bICI0V-4-P",
        "colab_type": "code",
        "colab": {}
      },
      "source": [
        "a=int(input('Enter the number:'))\n",
        "print(\"output for\",a,\"is\",\"-\"*25,output(a))"
      ],
      "execution_count": null,
      "outputs": []
    },
    {
      "cell_type": "code",
      "metadata": {
        "id": "X5pw4uUV-46y",
        "colab_type": "code",
        "colab": {}
      },
      "source": [
        ""
      ],
      "execution_count": null,
      "outputs": []
    },
    {
      "cell_type": "code",
      "metadata": {
        "id": "qVVdAu9n-44X",
        "colab_type": "code",
        "colab": {}
      },
      "source": [
        ""
      ],
      "execution_count": null,
      "outputs": []
    },
    {
      "cell_type": "code",
      "metadata": {
        "id": "Wi4sIDt9-41J",
        "colab_type": "code",
        "colab": {}
      },
      "source": [
        ""
      ],
      "execution_count": null,
      "outputs": []
    },
    {
      "cell_type": "code",
      "metadata": {
        "id": "gu98Tlg8-4xk",
        "colab_type": "code",
        "colab": {}
      },
      "source": [
        ""
      ],
      "execution_count": null,
      "outputs": []
    },
    {
      "cell_type": "code",
      "metadata": {
        "id": "BSAlpkXF-4pr",
        "colab_type": "code",
        "colab": {}
      },
      "source": [
        ""
      ],
      "execution_count": null,
      "outputs": []
    },
    {
      "cell_type": "code",
      "metadata": {
        "id": "rRM6e2ZE-4gD",
        "colab_type": "code",
        "colab": {}
      },
      "source": [
        ""
      ],
      "execution_count": null,
      "outputs": []
    }
  ]
}