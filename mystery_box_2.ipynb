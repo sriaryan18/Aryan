{
  "nbformat": 4,
  "nbformat_minor": 0,
  "metadata": {
    "colab": {
      "name": "mystery_box_2",
      "provenance": [],
      "authorship_tag": "ABX9TyOEShCsoRCL6jIEnmCJoaq5",
      "include_colab_link": true
    },
    "kernelspec": {
      "name": "python3",
      "display_name": "Python 3"
    },
    "accelerator": "GPU"
  },
  "cells": [
    {
      "cell_type": "markdown",
      "metadata": {
        "id": "view-in-github",
        "colab_type": "text"
      },
      "source": [
        "<a href=\"https://colab.research.google.com/github/sriaryan18/Aryan/blob/master/mystery_box_2.ipynb\" target=\"_parent\"><img src=\"https://colab.research.google.com/assets/colab-badge.svg\" alt=\"Open In Colab\"/></a>"
      ]
    },
    {
      "cell_type": "code",
      "metadata": {
        "id": "_IYH2wG0gs2W",
        "colab_type": "code",
        "colab": {}
      },
      "source": [
        "import numpy as np\n"
      ],
      "execution_count": 1,
      "outputs": []
    },
    {
      "cell_type": "code",
      "metadata": {
        "id": "lTtoHQ-lgs6S",
        "colab_type": "code",
        "colab": {}
      },
      "source": [
        "celsius_q    = [-40, -10,  0,  8, 15, 22,  38]\n",
        "fahrenheit_a = [-40,  14, 32, 46, 59, 72, 100]\n",
        "x=np.array(celsius_q,dtype='float').reshape(-1,1)\n",
        "y=np.array(fahrenheit_a,'float').reshape(-1,1)\n",
        "from sklearn.linear_model import LinearRegression\n",
        "lr=LinearRegression(normalize=True)\n",
        "lr.fit(x,y)"
      ],
      "execution_count": 34,
      "outputs": []
    },
    {
      "cell_type": "markdown",
      "metadata": {
        "id": "ZNPVORn7lfZx",
        "colab_type": "text"
      },
      "source": [
        "#Enter the value you want to predict"
      ]
    },
    {
      "cell_type": "code",
      "metadata": {
        "id": "qowy9dKogtBN",
        "colab_type": "code",
        "colab": {}
      },
      "source": [
        "def output(a):\n",
        "  return np.ceil(lr.predict([[a]]))"
      ],
      "execution_count": 12,
      "outputs": []
    },
    {
      "cell_type": "code",
      "metadata": {
        "id": "8gtBIStogtIR",
        "colab_type": "code",
        "colab": {
          "base_uri": "https://localhost:8080/",
          "height": 51
        },
        "outputId": "7330a5dc-c5da-421e-a1d2-8c1675eb4b07"
      },
      "source": [
        "a=int(input('Enter the number:-'))\n",
        "print('the output for the mysterybox 2 is',\"-\"*40,output(a))"
      ],
      "execution_count": 49,
      "outputs": [
        {
          "output_type": "stream",
          "text": [
            "Enter the number:-2\n",
            "the output for the mysterybox 2 is ---------------------------------------- [[36.]]\n"
          ],
          "name": "stdout"
        }
      ]
    },
    {
      "cell_type": "code",
      "metadata": {
        "id": "H5uSRGeJgtOw",
        "colab_type": "code",
        "colab": {}
      },
      "source": [
        ""
      ],
      "execution_count": 44,
      "outputs": []
    },
    {
      "cell_type": "code",
      "metadata": {
        "id": "u7FVlTJgitSo",
        "colab_type": "code",
        "colab": {}
      },
      "source": [
        ""
      ],
      "execution_count": 42,
      "outputs": []
    },
    {
      "cell_type": "code",
      "metadata": {
        "id": "R-Y1wRMylNmr",
        "colab_type": "code",
        "colab": {}
      },
      "source": [
        ""
      ],
      "execution_count": null,
      "outputs": []
    }
  ]
}